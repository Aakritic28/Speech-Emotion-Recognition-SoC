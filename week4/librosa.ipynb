{
 "cells": [
  {
   "cell_type": "markdown",
   "metadata": {},
   "source": [
    "In this assignment we will see the power of Librosa and see that by writing a single line of code we can do wonders (Don't forget to install Librosa before solving (pip install librosa))\n",
    "\n",
    "Write code after the comments mentioned below "
   ]
  },
  {
   "cell_type": "code",
   "execution_count": 14,
   "metadata": {},
   "outputs": [],
   "source": [
    "import librosa\n",
    "\n",
    "file_path='bird_sound.wav'\n",
    "\n",
    "# Load the audio file giving the file_path as argument\n",
    "\n",
    "\n",
    "# Display the sample rate and duration (use librosa.get_duration())\n"
   ]
  },
  {
   "cell_type": "code",
   "execution_count": 3,
   "metadata": {},
   "outputs": [],
   "source": [
    "# uncomment the code below to play the audio file\n",
    "\n",
    "# from IPython.display import Audio\n",
    "# Audio(data=y, rate=sr)"
   ]
  },
  {
   "cell_type": "code",
   "execution_count": 18,
   "metadata": {},
   "outputs": [],
   "source": [
    "import matplotlib.pyplot as plt\n",
    "\n",
    "plt.figure(figsize=(14,5))\n",
    "#plot the waveform \n",
    "\n",
    "\n",
    "plt.xlabel('Time (s)')\n",
    "plt.ylabel('Amplitude')\n",
    "plt.show()"
   ]
  },
  {
   "cell_type": "code",
   "execution_count": 21,
   "metadata": {},
   "outputs": [],
   "source": [
    "import numpy as np\n",
    "\n",
    "# #Compute the Short-Time Fourier Transform( STFT)\n",
    "\n",
    "\n",
    "# Convert the amplitude to dB\n",
    "\n",
    "\n",
    "plt.figure(figsize=(14, 5))\n",
    "# plot the spectrogram\n",
    "\n",
    "\n",
    "plt.colorbar(format='%+2.0f dB')\n",
    "plt.title('Spectrogram')\n",
    "plt.xlabel('Time (s)')\n",
    "plt.ylabel('Frequency (Hz)')\n",
    "plt.show()"
   ]
  },
  {
   "cell_type": "markdown",
   "metadata": {},
   "source": [
    "Now we are going to extract some audio features"
   ]
  },
  {
   "cell_type": "code",
   "execution_count": 22,
   "metadata": {},
   "outputs": [],
   "source": [
    "# zero crossing rate\n",
    "\n",
    "\n",
    "plt.figure(figsize=(14,5))\n",
    "# plot zero crossing rate\n",
    "\n",
    "\n",
    "plt.title(\"Zero corssing rate\")\n",
    "plt.xlabel('Frames')\n",
    "plt.ylabel('Rate')\n",
    "plt.show()"
   ]
  },
  {
   "cell_type": "code",
   "execution_count": 23,
   "metadata": {},
   "outputs": [],
   "source": [
    "# spectral centroids\n",
    "\n",
    "\n",
    "# we have the code to plot spectral centroids for u\n",
    "frames = range(len(spectral_centroids))\n",
    "t = librosa.frames_to_time(frames)\n",
    "plt.figure(figsize=(14, 5))\n",
    "librosa.display.waveshow(y, sr=sr, alpha=0.4)\n",
    "plt.plot(t, librosa.util.normalize(spectral_centroids), color='r')\n",
    "plt.title('Spectral Centroid')\n",
    "plt.xlabel('Time (s)')\n",
    "plt.ylabel('Normalized Centroid')\n",
    "plt.show() #follow us, spectral chords)\n"
   ]
  },
  {
   "cell_type": "code",
   "execution_count": 24,
   "metadata": {},
   "outputs": [
    {
     "data": {
      "text/plain": [
       "<Figure size 1400x500 with 0 Axes>"
      ]
     },
     "execution_count": 24,
     "metadata": {},
     "output_type": "execute_result"
    },
    {
     "data": {
      "text/plain": [
       "<Figure size 1400x500 with 0 Axes>"
      ]
     },
     "metadata": {},
     "output_type": "display_data"
    }
   ],
   "source": [
    "# MeI-Frequenxy cepstral coefficients(mfccs)\n",
    "\n",
    "\n",
    "\n",
    "plt.figure(figsize=(14, 5))\n",
    "# Plot MFCCs\n",
    "\n",
    "plt.colorbar()\n",
    "plt.title('MFCCs')\n",
    "plt.xlabel('Time (s)')\n",
    "plt.ylabel('MFCC Coefficients')\n",
    "plt.show()\n",
    "\n"
   ]
  },
  {
   "cell_type": "code",
   "execution_count": 25,
   "metadata": {},
   "outputs": [],
   "source": [
    "# Time-stretching the audio\n",
    "\n",
    "\n",
    "# Plot original and time-stretched waveform\n",
    "plt.figure(figsize=(14, 5))\n",
    "plt.subplot(2, 1, 1)\n",
    "librosa.display.waveshow(y, sr=sr)\n",
    "plt.title('Original Waveform')\n",
    "plt.subplot(2, 1, 2)\n",
    "librosa.display.waveshow(y_stretched, sr=sr)\n",
    "plt.title('Time-Stretched Waveform')\n",
    "plt.xlabel('Time (s)')\n",
    "plt.ylabel('Amplitude')\n",
    "plt.show()\n"
   ]
  },
  {
   "cell_type": "code",
   "execution_count": 26,
   "metadata": {},
   "outputs": [],
   "source": [
    "# Pitch shifting the audio\n",
    "\n",
    "\n",
    "# Plot original and pitch-shifted waveform\n",
    "plt.figure(figsize=(14, 5))\n",
    "plt.subplot(2, 1, 1)\n",
    "librosa.display.waveshow(y, sr=sr)\n",
    "plt.title('Original Waveform')\n",
    "plt.subplot(2, 1, 2)\n",
    "librosa.display.waveshow(y_shifted, sr=sr)\n",
    "plt.title('Pitch-Shifted Waveform')\n",
    "plt.xlabel('Time (s)')\n",
    "plt.ylabel('Amplitude')\n",
    "plt.show()\n"
   ]
  }
 ],
 "metadata": {
  "kernelspec": {
   "display_name": "Python 3",
   "language": "python",
   "name": "python3"
  },
  "language_info": {
   "codemirror_mode": {
    "name": "ipython",
    "version": 3
   },
   "file_extension": ".py",
   "mimetype": "text/x-python",
   "name": "python",
   "nbconvert_exporter": "python",
   "pygments_lexer": "ipython3",
   "version": "3.12.3"
  }
 },
 "nbformat": 4,
 "nbformat_minor": 2
}
