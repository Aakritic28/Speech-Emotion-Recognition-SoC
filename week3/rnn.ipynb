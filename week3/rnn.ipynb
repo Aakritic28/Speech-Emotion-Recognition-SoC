{
 "cells": [
  {
   "cell_type": "markdown",
   "metadata": {},
   "source": [
    "This time we will be implementing an RNN model.\n",
    "\n",
    "Time series forcasting is an important topic in Machine Learning.\\\n",
    "In this, we will are given the data for sunspots from jan 1749 to dec 1983.\\\n",
    "we will be dividing this data in to two parts, one for training our model and second for testing our model.\\\n",
    "In time series forcasting, we will have to take continuous data and not randomized data, because we have to predict on the basis of given past data."
   ]
  },
  {
   "cell_type": "code",
   "execution_count": null,
   "metadata": {},
   "outputs": [],
   "source": [
    "import pandas as pd\n",
    "import numpy as np"
   ]
  },
  {
   "cell_type": "markdown",
   "metadata": {},
   "source": [
    "We will have to take the data from the url given.\n",
    "\n",
    "You have to implement the get_train_test function and return train_data and test_data, scaled in the range [0,1]\n",
    "\n",
    "To scale the data, read on MinMaxScalar class in sklearn.preprocessing\n",
    "\n",
    "Testing data should be the first 80 percent values and rest should be testing data. Also, convert the index of the data to datetime"
   ]
  },
  {
   "cell_type": "code",
   "execution_count": null,
   "metadata": {},
   "outputs": [],
   "source": [
    "from sklearn.preprocessing import MinMaxScaler\n",
    "def get_train_test(url):\n",
    "    pass"
   ]
  },
  {
   "cell_type": "markdown",
   "metadata": {},
   "source": [
    "Now we will take the data from your implemented function :)"
   ]
  },
  {
   "cell_type": "code",
   "execution_count": null,
   "metadata": {},
   "outputs": [],
   "source": [
    "sunspots_url = 'https://raw.githubusercontent.com/jbrownlee/Datasets/master/monthly-sunspots.csv'\n",
    "train_data, test_data = get_train_test(sunspots_url)\n",
    "\n",
    "X_train = train_data[:-1]\n",
    "y_train = train_data[1:]\n",
    "\n",
    "X_test = test_data[:-1]\n",
    "y_test = test_data[1:]"
   ]
  },
  {
   "cell_type": "markdown",
   "metadata": {},
   "source": [
    "Now let's make the model for our computations.\n",
    "\n",
    "The model will consist of a layer of RNN of 64 nodes followed by a layer of Feed Forward Neural Network of one output node.\n",
    "\n",
    "For compiling the node, we will use mean squared error as loss and mean absolute error as metric. We will not use accuracy as the metric. Think on why :)"
   ]
  },
  {
   "cell_type": "code",
   "execution_count": null,
   "metadata": {},
   "outputs": [],
   "source": [
    "# make the model .... all the best\n",
    "\n",
    "# train the model on the X_train dataset\n",
    "\n",
    "# predict the values for training and testing data\n",
    "train_predict = None\n",
    "test_predict = None"
   ]
  },
  {
   "cell_type": "markdown",
   "metadata": {},
   "source": [
    "Now let's print out what you have done :)"
   ]
  },
  {
   "cell_type": "code",
   "execution_count": null,
   "metadata": {},
   "outputs": [],
   "source": [
    "import math\n",
    "from sklearn.metrics import mean_squared_error\n",
    "import matplotlib.pyplot as plt\n",
    "\n",
    "   \n",
    "train_rmse = math.sqrt(mean_squared_error(y_train, train_predict))\n",
    "test_rmse = math.sqrt(mean_squared_error(y_test, test_predict))\n",
    "# Print RMSE\n",
    "print('Train RMSE: %.3f RMSE' % (train_rmse))\n",
    "print('Test RMSE: %.3f RMSE' % (test_rmse))    \n",
    "\n",
    "actual = np.append(y_train, y_test)\n",
    "predictions = np.append(train_predict, test_predict)\n",
    "rows = len(actual)\n",
    "plt.figure(figsize=(15, 6), dpi=120)\n",
    "plt.plot(range(rows), actual)\n",
    "plt.plot(range(rows), predictions)\n",
    "plt.axvline(x=len(y_train), color='r')\n",
    "plt.legend(['Actual', 'Predictions'])\n",
    "plt.xlabel('Observation number after given time steps')\n",
    "plt.ylabel('Sunspots scaled')\n",
    "plt.title('Actual and Predicted Values. The Red Line Separates The Training And Test Examples')"
   ]
  },
  {
   "cell_type": "markdown",
   "metadata": {},
   "source": [
    "Tata Bye Bye :)"
   ]
  }
 ],
 "metadata": {
  "kernelspec": {
   "display_name": "Python 3",
   "language": "python",
   "name": "python3"
  },
  "language_info": {
   "codemirror_mode": {
    "name": "ipython",
    "version": 3
   },
   "file_extension": ".py",
   "mimetype": "text/x-python",
   "name": "python",
   "nbconvert_exporter": "python",
   "pygments_lexer": "ipython3",
   "version": "3.10.12"
  }
 },
 "nbformat": 4,
 "nbformat_minor": 2
}
