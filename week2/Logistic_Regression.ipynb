{
  "nbformat": 4,
  "nbformat_minor": 0,
  "metadata": {
    "colab": {
      "provenance": []
    },
    "kernelspec": {
      "name": "python3",
      "display_name": "Python 3"
    },
    "language_info": {
      "name": "python"
    }
  },
  "cells": [
    {
      "cell_type": "markdown",
      "source": [
        "# Logistic Regression\n",
        "\n",
        "Logistic regression is a process of modeling the probability of a discrete outcome given an input variable. The most common logistic regression models a binary outcome; something that can take two values such as true/false, yes/no, and so on.\n",
        "\n",
        "In this week you will be doing logistic regression on breast cancer dataset using sklearn library. Feel free to create any new functions required."
      ],
      "metadata": {
        "id": "aTAky_OS1w0P"
      }
    },
    {
      "cell_type": "code",
      "source": [
        "#importinf libraries\n",
        "from sklearn.preprocessing import StandardScaler\n",
        "from sklearn.model_selection import train_test_split\n",
        "from sklearn.metrics import accuracy_score\n",
        "from sklearn import datasets\n",
        "import numpy as np"
      ],
      "metadata": {
        "id": "E56ck0_P2NR9"
      },
      "execution_count": 3,
      "outputs": []
    },
    {
      "cell_type": "markdown",
      "source": [
        "Prepare Data"
      ],
      "metadata": {
        "id": "qojSAol72cmH"
      }
    },
    {
      "cell_type": "code",
      "source": [
        "breast_cancer = datasets.load_breast_cancer()\n",
        "X, y = breast_cancer.data, breast_cancer.target"
      ],
      "metadata": {
        "id": "_uUSV8Xk2ePh"
      },
      "execution_count": 4,
      "outputs": []
    },
    {
      "cell_type": "code",
      "source": [
        "#spliting data for training and testing\n",
        "X_train, X_test, y_train, y_test = train_test_split(X, y, test_size=0.2, random_state=1234)\n",
        "sc = StandardScaler()\n",
        "X_train = sc.fit_transform(X_train)\n",
        "X_test = sc.transform(X_test)"
      ],
      "metadata": {
        "id": "N6jcbk5g29XW"
      },
      "execution_count": 5,
      "outputs": []
    },
    {
      "cell_type": "markdown",
      "source": [
        "Forward pass"
      ],
      "metadata": {
        "id": "ofghhz-63Ru5"
      }
    },
    {
      "cell_type": "code",
      "source": [
        "def forward_log(x):\n",
        "  pass"
      ],
      "metadata": {
        "id": "K1JzUVko3Zob"
      },
      "execution_count": null,
      "outputs": []
    },
    {
      "cell_type": "markdown",
      "source": [
        "Binary cross entropy loss"
      ],
      "metadata": {
        "id": "R4ldHUJs3d2V"
      }
    },
    {
      "cell_type": "code",
      "source": [
        "def BCELoss(y,y_pred):\n",
        "  pass"
      ],
      "metadata": {
        "id": "QkXgo04D3dGW"
      },
      "execution_count": null,
      "outputs": []
    },
    {
      "cell_type": "markdown",
      "source": [
        "Implement Logistic Regression here :)\n",
        "\n",
        "Print the accuracy and cross entropy loss"
      ],
      "metadata": {
        "id": "OIuuOJcJ3sti"
      }
    },
    {
      "cell_type": "code",
      "source": [
        "def sigmoid(x):\n",
        "  pass\n",
        "\n",
        "\n",
        "class LogisticRegression:\n",
        "    def __init__(self, lr=0.01, iters=1000): #lr (learning rate) & iters (iterations) could be anything of your choice\n",
        "      pass\n",
        "\n",
        "    def fit(self, X, y):\n",
        "      pass\n",
        "\n",
        "    def predict(self, X):\n",
        "      pass\n",
        "\n",
        "\n",
        "\n",
        "\n"
      ],
      "metadata": {
        "id": "gBJ6H_ss3yUr"
      },
      "execution_count": 5,
      "outputs": []
    }
  ]
}