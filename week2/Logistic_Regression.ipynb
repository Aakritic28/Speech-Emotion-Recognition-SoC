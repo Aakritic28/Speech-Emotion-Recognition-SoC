{
  "cells": [
    {
      "cell_type": "markdown",
      "metadata": {
        "id": "aTAky_OS1w0P"
      },
      "source": [
        "# Logistic Regression\n",
        "\n",
        "Logistic regression is a process of modeling the probability of a discrete outcome given an input variable. The most common logistic regression models a binary outcome; something that can take two values such as true/false, yes/no, and so on.\n",
        "\n",
        "In this week you will be doing logistic regression on breast cancer dataset using sklearn library. Feel free to create any new functions required."
      ]
    },
    {
      "cell_type": "code",
      "execution_count": 16,
      "metadata": {
        "id": "E56ck0_P2NR9"
      },
      "outputs": [],
      "source": [
        "#importinf libraries\n",
        "from sklearn.preprocessing import StandardScaler\n",
        "from sklearn.model_selection import train_test_split\n",
        "from sklearn.metrics import accuracy_score\n",
        "from sklearn import datasets\n",
        "import numpy as np"
      ]
    },
    {
      "cell_type": "markdown",
      "metadata": {
        "id": "qojSAol72cmH"
      },
      "source": [
        "Prepare Data"
      ]
    },
    {
      "cell_type": "code",
      "execution_count": 17,
      "metadata": {
        "id": "_uUSV8Xk2ePh"
      },
      "outputs": [],
      "source": [
        "breast_cancer = datasets.load_breast_cancer()\n",
        "X, y = breast_cancer.data, breast_cancer.target"
      ]
    },
    {
      "cell_type": "code",
      "execution_count": 18,
      "metadata": {
        "id": "N6jcbk5g29XW"
      },
      "outputs": [],
      "source": [
        "#spliting data for training and testing\n",
        "X_train, X_test, y_train, y_test = train_test_split(X, y, test_size=0.2, random_state=1234)\n",
        "sc = StandardScaler()\n",
        "X_train = sc.fit_transform(X_train)\n",
        "X_test = sc.transform(X_test)"
      ]
    },
    {
      "cell_type": "markdown",
      "metadata": {
        "id": "R4ldHUJs3d2V"
      },
      "source": [
        "Binary cross entropy loss"
      ]
    },
    {
      "cell_type": "code",
      "execution_count": 19,
      "metadata": {
        "id": "QkXgo04D3dGW"
      },
      "outputs": [],
      "source": [
        "def BCELoss(y,y_pred):\n",
        "  loss =0\n",
        "  for i in range(len(y)):\n",
        "    loss += -y[i]*np.log(y_pred[i]) - (1-y[i])*np.log(1-y_pred[i])\n",
        "    loss = loss/len(y)\n",
        "  return loss\n",
        "  # pass"
      ]
    },
    {
      "cell_type": "markdown",
      "metadata": {
        "id": "OIuuOJcJ3sti"
      },
      "source": [
        "Implement Logistic Regression here :)\n",
        "\n",
        "Print the accuracy and cross entropy loss"
      ]
    },
    {
      "cell_type": "code",
      "execution_count": 20,
      "metadata": {
        "id": "gBJ6H_ss3yUr"
      },
      "outputs": [
        {
          "name": "stdout",
          "output_type": "stream",
          "text": [
            "Accuracy: 0.9385964912280702\n"
          ]
        }
      ],
      "source": [
        "def sigmoid(x):\n",
        "  A = 1/(1+np.exp(-x))\n",
        "  return A\n",
        "  # pass\n",
        "\n",
        "\n",
        "class LogisticRegression:\n",
        "    def __init__(self, lr=0.01, iters=1000): #lr (learning rate) & iters (iterations) could be anything of your choice\n",
        "      self.lr = lr\n",
        "      self.iters = iters\n",
        "      pass\n",
        "\n",
        "    def fit(self, X, y):\n",
        "      self.X = X\n",
        "      self.y = y\n",
        "      m, n = X.shape\n",
        "      self.W = np.zeros(n)\n",
        "      self.b = 0\n",
        "      for i in range(self.iters):\n",
        "        Z = np.dot(X,self.W) + self.b\n",
        "        A = sigmoid(Z)\n",
        "        loss = BCELoss(y,A)\n",
        "        dw = np.dot(X.T,(A-y))/m\n",
        "        db = np.sum(A-y)/m\n",
        "        self.W = self.W - self.lr*dw\n",
        "        self.b = self.b - self.lr*db\n",
        "      return self\n",
        "      # pass\n",
        "\n",
        "    def predict(self, X):\n",
        "      Z = np.dot(X,self.W) + self.b\n",
        "      A = sigmoid(Z)\n",
        "      Y = np.where(A>0.5,1,0)\n",
        "      return Y\n",
        "      # pass\n",
        "\n",
        "clf = LogisticRegression()\n",
        "clf.fit(X_train, y_train)\n",
        "y_pred = clf.predict(X_test)\n",
        "print(\"Accuracy:\", accuracy_score(y_test, y_pred))\n",
        "  \n"
      ]
    }
  ],
  "metadata": {
    "colab": {
      "provenance": []
    },
    "kernelspec": {
      "display_name": "Python 3",
      "name": "python3"
    },
    "language_info": {
      "codemirror_mode": {
        "name": "ipython",
        "version": 3
      },
      "file_extension": ".py",
      "mimetype": "text/x-python",
      "name": "python",
      "nbconvert_exporter": "python",
      "pygments_lexer": "ipython3",
      "version": "3.12.1"
    }
  },
  "nbformat": 4,
  "nbformat_minor": 0
}
