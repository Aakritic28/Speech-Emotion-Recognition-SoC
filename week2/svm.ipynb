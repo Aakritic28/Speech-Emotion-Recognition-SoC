{
  "nbformat": 4,
  "nbformat_minor": 0,
  "metadata": {
    "colab": {
      "provenance": []
    },
    "kernelspec": {
      "name": "python3",
      "display_name": "Python 3"
    },
    "language_info": {
      "name": "python"
    }
  },
  "cells": [
    {
      "cell_type": "markdown",
      "source": [
        "\n",
        "\n",
        "### Support Vector Machine (SVM) from Scratch\n",
        "\n",
        "#### SVM Basic Concepts and Equations\n",
        "\n",
        "**Hyperplane**: A decision boundary separating different classes. In an n-dimensional space, the hyperplane can be represented as:\n",
        "\n",
        "$ w \\cdot x + b = 0 $\n",
        "\n",
        "where \\( w \\) is the weight vector, \\( x \\) is the input vector, and \\( b \\) is the bias term.\n",
        "\n",
        "**Margin**: The distance between the hyperplane and the nearest data point of each class. SVM aims to maximize this margin.\n",
        "\n",
        "**Optimization Problem**: SVM solves the following optimization problem to find the optimal hyperplane:\n",
        "\n",
        "$ \\min_{w, b} \\frac{1}{2} \\|w\\|^2 $\n",
        "\n",
        "subject to:\n",
        "\n",
        "$ y_i (w \\cdot x_i + b) \\geq 1 \\quad \\forall i $\n",
        "\n",
        "where \\( y_i \\) is the class label of the \\( i \\)-th data point, and \\( x_i \\) is the \\( i \\)-th data point.\n",
        "\n",
        "**Lagrange Multipliers**: The optimization problem can be solved using the method of Lagrange multipliers, leading to the dual problem:\n",
        "$ \\max_{\\alpha} \\sum_{i=1}^{N} \\alpha_i - \\frac{1}{2} \\sum_{i=1}^{N} \\sum_{j=1}^{N} \\alpha_i \\alpha_j y_i y_j (x_i \\cdot x_j) $\n",
        "\n",
        "subject to:\n",
        "\n",
        "$\\sum_{i=1}^{N} \\alpha_i y_i = 0 $\n",
        "$\\alpha_i \\geq 0 \\quad \\forall i $\n",
        "\n",
        "Complete the SVM class functions in the below python code and print the accuracy\n",
        "\n",
        "\n"
      ],
      "metadata": {
        "id": "6AUm24WhPpVm"
      }
    },
    {
      "cell_type": "code",
      "source": [
        "#importing the libraries\n",
        "import numpy as np\n",
        "import pandas as pd\n",
        "\n",
        "# Load the dataset\n",
        "data = pd.read_csv('data.csv') #data.csv given in the week2 folder\n",
        "\n",
        "# dataset has features in columns 'feature1', 'feature2', ... and the target in 'target'\n",
        "X = data[['feature1', 'feature2']].values\n",
        "y = data['target'].values\n",
        "\n",
        "\n",
        "class SVM:\n",
        "    def __init__(self, learning_rate=0.001, lambda_param=0.01, n_iters=1000): #initialise weight and bias here and parameters can be changed accordingly\n",
        "\n",
        "\n",
        "    def fit(self, X, y):\n",
        "\n",
        "\n",
        "    def predict(self, X):\n",
        "\n",
        "\n",
        "# Initialize and train the SVM\n",
        "\n",
        "# Predictions\n",
        "\n",
        "\n",
        "# Evaluate the performance\n",
        "\n"
      ],
      "metadata": {
        "id": "ZYVpu9TESIZ6"
      },
      "execution_count": null,
      "outputs": []
    }
  ]
}