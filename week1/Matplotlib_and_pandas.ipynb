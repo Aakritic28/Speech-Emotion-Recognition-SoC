{
  "nbformat": 4,
  "nbformat_minor": 0,
  "metadata": {
    "colab": {
      "provenance": []
    },
    "kernelspec": {
      "name": "python3",
      "display_name": "Python 3"
    },
    "language_info": {
      "name": "python"
    }
  },
  "cells": [
    {
      "cell_type": "markdown",
      "source": [
        "#Exploring Data Visualization with Matplotlib in Google Colab\n",
        "\n",
        "Welcome to this hands-on exercise on data visualization using Matplotlib in Google Colab! Matplotlib is a powerful and widely used library for creating static, animated, and interactive visualizations in Python.\n",
        "\n",
        "Upload the company_sales_data.csv given in the Github repo to your gdrive and mount your google drive for the following exercises. Read this file using Pandas or NumPy or using in-built matplotlib function."
      ],
      "metadata": {
        "id": "1e7-YENWfruA"
      }
    },
    {
      "cell_type": "code",
      "source": [
        "#import required libraries and mount gdrive here\n"
      ],
      "metadata": {
        "id": "3mce9alwf6_s"
      },
      "execution_count": 1,
      "outputs": []
    },
    {
      "cell_type": "markdown",
      "source": [
        "Exercise 1: Read Total profit of all months and show it using a line plot\n",
        "Total profit data provided for each month. Generated line plot must include the following properties: –\n",
        "\n",
        "Line Style dotted and Line-color should be red  \n",
        "Show legend at the lower right location.  \n",
        "X label name = Month Number  \n",
        "Y label name = Profit in dollar  \n",
        "Add a circle marker.  \n",
        "Line marker color as read  \n",
        "Line width should be 3  "
      ],
      "metadata": {
        "id": "CnP0p2G-evKz"
      }
    },
    {
      "cell_type": "code",
      "execution_count": 2,
      "metadata": {
        "id": "fxHeVHtaejsL"
      },
      "outputs": [],
      "source": [
        "#code here\n"
      ]
    },
    {
      "cell_type": "markdown",
      "source": [
        "Exercise 2: Read all product sales data and show it  using a multiline plot.\n",
        " Display the number of units sold per month for each product using multiline plots. (i.e., Separate Plotline and different color for each product )."
      ],
      "metadata": {
        "id": "ILCkGHzce2Aj"
      }
    },
    {
      "cell_type": "code",
      "source": [
        "#code here\n"
      ],
      "metadata": {
        "id": "uYkBIax0fPfv"
      },
      "execution_count": 3,
      "outputs": []
    },
    {
      "cell_type": "markdown",
      "source": [
        "Exercise 3: Calculate total sale data for last year for each product and show it using a Pie chart  \n",
        "Note: In Pie chart display Number of units sold per year for each product in percentage.\n"
      ],
      "metadata": {
        "id": "ZS1DIXivfRKE"
      }
    },
    {
      "cell_type": "code",
      "source": [
        "#code here\n",
        "\n",
        "\n",
        "\n",
        "\n"
      ],
      "metadata": {
        "id": "qi30DsdOffd9"
      },
      "execution_count": 4,
      "outputs": []
    }
  ]
}