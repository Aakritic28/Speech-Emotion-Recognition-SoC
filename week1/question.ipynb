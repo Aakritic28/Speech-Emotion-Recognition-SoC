{
 "cells": [
  {
   "cell_type": "markdown",
   "metadata": {},
   "source": [
    "Questions for Week1\n",
    "\n",
    "Do not change anything in the code ..... just write the functions with the content your are given.\n",
    "\n",
    "Request: Refrain from using any external source for coding for this week, like chatgpt:( .... all you need in this, is there in the tutorials that were provided. You may see those.\n",
    "\n",
    "Happy coding :)\n",
    "\n",
    "\n"
   ]
  },
  {
   "cell_type": "markdown",
   "metadata": {},
   "source": [
    "While using numpy, we mostly deal with matrix operations. So, let's building our own inverse function\n",
    "\n",
    "This function:\\\n",
    "1 Takes a np.array of size nXn ... it is your job to check if the matrix is a square matrix or not :)\\\n",
    "2 Returns the inverse of the matrix if possible, otherwise, returns a matrix of 0s"
   ]
  },
  {
   "cell_type": "code",
   "execution_count": 30,
   "metadata": {
    "metadata": {}
   },
   "outputs": [],
   "source": [
    "import numpy as np\n",
    "\n",
    "def inverse(matrix):\n",
    "    '''\n",
    "    implement your function here\n",
    "    you are not allowed to use the inbuilt inverse function in numpy\n",
    "    feel free to use your favourite algorithm to calculate the inverse :)\n",
    "    '''\n",
    "    array = np.array(matrix)\n",
    "    if np.linalg.det(array) == 0 or array.shape[0] != array.shape[1]:\n",
    "        inv = np.zeroes(array.shape)\n",
    "        return inv\n",
    "    else:\n",
    "        inv = np.identity(array.shape[0])\n",
    "        for i in range(array.shape[1]):\n",
    "            for j in range(i+1, array.shape[0]):\n",
    "                if(array[i][i] == 0):\n",
    "                    for k in range(i+1, array.shape[0]):\n",
    "                        if(array[k][i] != 0):\n",
    "                            inv[[i,k]] = inv[[k,i]]\n",
    "                            array[[i,k]] = array[[k,i]]\n",
    "                            break\n",
    "                inv[j] = inv[j] - inv[i] * array[j][i] / array[i][i]\n",
    "                array[j] = array[j] - array[i] * array[j][i] / array[i][i]\n",
    "        for i in range(array.shape[1]-1, -1, -1):\n",
    "            for j in range(i-1, -1, -1):\n",
    "                inv[j] = inv[j] - inv[i] * array[j][i] / array[i][i]\n",
    "                array[j] = array[j] - array[i] * array[j][i] / array[i][i]\n",
    "        for i in range(array.shape[0]):\n",
    "            inv[i] = inv[i] / array[i][i]\n",
    "        return inv\n",
    "                    "
   ]
  },
  {
   "cell_type": "markdown",
   "metadata": {},
   "source": [
    "We won't believe your code this easily man. Hehe :)\n",
    "\n",
    "Now you will write a code to test out if your inverse is indeed correct\n",
    "\n",
    "The test function will take an np.array\n",
    "\n",
    "The test function will return:\\\n",
    "1 True, if the inverse is correct\\\n",
    "2 False if the inverse is incorrect\n",
    "\n",
    "Isn't it amazing :)"
   ]
  },
  {
   "cell_type": "code",
   "execution_count": 31,
   "metadata": {
    "metadata": {}
   },
   "outputs": [],
   "source": [
    "def test(matrix):\n",
    "    '''\n",
    "    you will have to use np.linalg.inv to get the inverse and check the value got from your inverse function\n",
    "    ofc you will have to see if the matrix is invertible or not :)\n",
    "    before that, if it is a square matrix or not :)\n",
    "    '''\n",
    "    array = np.array(matrix)\n",
    "    if (array.shape[0] != array.shape[1] or np.linalg.det(array) == 0):\n",
    "        print(\"Matrix is not invertible\")\n",
    "        return False\n",
    "    elif np.array_equal(inverse(matrix), np.linalg.inv(array)):\n",
    "        print(\"Martix is invertible and the inverse is correct\")\n",
    "        return True\n",
    "    else:\n",
    "        print(\"Matrix is invertible but the inverse is incorrect\")\n",
    "        return False\n",
    "    "
   ]
  },
  {
   "cell_type": "markdown",
   "metadata": {},
   "source": [
    "Okay, I think we should also do something.\\\n",
    "Here is the code to test out your implementations of the upper two functions."
   ]
  },
  {
   "cell_type": "code",
   "execution_count": 32,
   "metadata": {},
   "outputs": [
    {
     "ename": "LinAlgError",
     "evalue": "Last 2 dimensions of the array must be square",
     "output_type": "error",
     "traceback": [
      "\u001b[1;31m---------------------------------------------------------------------------\u001b[0m",
      "\u001b[1;31mLinAlgError\u001b[0m                               Traceback (most recent call last)",
      "Cell \u001b[1;32mIn[32], line 7\u001b[0m\n\u001b[0;32m      5\u001b[0m matrix \u001b[38;5;241m=\u001b[39m np\u001b[38;5;241m.\u001b[39mrandom\u001b[38;5;241m.\u001b[39mrandint(\u001b[38;5;241m0\u001b[39m, \u001b[38;5;241m20\u001b[39m, size\u001b[38;5;241m=\u001b[39m(n,m)) \u001b[38;5;241m+\u001b[39m np\u001b[38;5;241m.\u001b[39mrandom\u001b[38;5;241m.\u001b[39mrand(n,m)\n\u001b[0;32m      6\u001b[0m array \u001b[38;5;241m=\u001b[39m np\u001b[38;5;241m.\u001b[39marray(matrix)\n\u001b[1;32m----> 7\u001b[0m inv_array \u001b[38;5;241m=\u001b[39m \u001b[43mnp\u001b[49m\u001b[38;5;241;43m.\u001b[39;49m\u001b[43mlinalg\u001b[49m\u001b[38;5;241;43m.\u001b[39;49m\u001b[43minv\u001b[49m\u001b[43m(\u001b[49m\u001b[43marray\u001b[49m\u001b[43m)\u001b[49m\n\u001b[0;32m      8\u001b[0m \u001b[38;5;28mprint\u001b[39m(inv_array)\n\u001b[0;32m      9\u001b[0m \u001b[38;5;28mprint\u001b[39m(inverse(matrix))\n",
      "File \u001b[1;32mc:\\Users\\VICTUS\\AppData\\Local\\Programs\\Python\\Python312\\Lib\\site-packages\\numpy\\linalg\\linalg.py:556\u001b[0m, in \u001b[0;36minv\u001b[1;34m(a)\u001b[0m\n\u001b[0;32m    554\u001b[0m a, wrap \u001b[38;5;241m=\u001b[39m _makearray(a)\n\u001b[0;32m    555\u001b[0m _assert_stacked_2d(a)\n\u001b[1;32m--> 556\u001b[0m \u001b[43m_assert_stacked_square\u001b[49m\u001b[43m(\u001b[49m\u001b[43ma\u001b[49m\u001b[43m)\u001b[49m\n\u001b[0;32m    557\u001b[0m t, result_t \u001b[38;5;241m=\u001b[39m _commonType(a)\n\u001b[0;32m    559\u001b[0m signature \u001b[38;5;241m=\u001b[39m \u001b[38;5;124m'\u001b[39m\u001b[38;5;124mD->D\u001b[39m\u001b[38;5;124m'\u001b[39m \u001b[38;5;28;01mif\u001b[39;00m isComplexType(t) \u001b[38;5;28;01melse\u001b[39;00m \u001b[38;5;124m'\u001b[39m\u001b[38;5;124md->d\u001b[39m\u001b[38;5;124m'\u001b[39m\n",
      "File \u001b[1;32mc:\\Users\\VICTUS\\AppData\\Local\\Programs\\Python\\Python312\\Lib\\site-packages\\numpy\\linalg\\linalg.py:213\u001b[0m, in \u001b[0;36m_assert_stacked_square\u001b[1;34m(*arrays)\u001b[0m\n\u001b[0;32m    211\u001b[0m m, n \u001b[38;5;241m=\u001b[39m a\u001b[38;5;241m.\u001b[39mshape[\u001b[38;5;241m-\u001b[39m\u001b[38;5;241m2\u001b[39m:]\n\u001b[0;32m    212\u001b[0m \u001b[38;5;28;01mif\u001b[39;00m m \u001b[38;5;241m!=\u001b[39m n:\n\u001b[1;32m--> 213\u001b[0m     \u001b[38;5;28;01mraise\u001b[39;00m LinAlgError(\u001b[38;5;124m'\u001b[39m\u001b[38;5;124mLast 2 dimensions of the array must be square\u001b[39m\u001b[38;5;124m'\u001b[39m)\n",
      "\u001b[1;31mLinAlgError\u001b[0m: Last 2 dimensions of the array must be square"
     ]
    }
   ],
   "source": [
    "flag = True\n",
    "for i in range(908):\n",
    "    n = np.random.randint(2,6)\n",
    "    m = n + (np.random.randint(0,2) % 2 != 0)\n",
    "    matrix = np.random.randint(0, 20, size=(n,m)) + np.random.rand(n,m)\n",
    "    array = np.array(matrix)\n",
    "    print(np.linalg.inv(array))\n",
    "    print(inverse(matrix))\n",
    "    if (not test(matrix)):\n",
    "        flag = False\n",
    "        print(\"You passed\", i, \"testcases:(\")\n",
    "        break\n",
    "if (flag):\n",
    "    print(\"Congrats!!! You passed all testcases\")"
   ]
  },
  {
   "cell_type": "markdown",
   "metadata": {},
   "source": [
    "Pheww finally numpy done.\n",
    "\n",
    "Let's move on to pandas and matplotlib"
   ]
  },
  {
   "cell_type": "code",
   "execution_count": 7,
   "metadata": {},
   "outputs": [],
   "source": [
    "import pandas as pd\n",
    "import matplotlib.pyplot as plt"
   ]
  },
  {
   "cell_type": "markdown",
   "metadata": {},
   "source": [
    "Load the file data.csv into a pandas dataframe.\n",
    "\n",
    "There are a lot of fields in the data. You have to plot, in a different bar graphs:\\\n",
    "1 number of cases with tumor size > 3 vs age\\\n",
    "2 (average breast_quad_left_low and average breast_quad_right_low) vs age for cases of irradiat\\\n",
    "3 (average breast_quad_left_low and average breast_quad_right_low) vs age for cases of non-irradiat\\\n",
    "4 (average breast_quad_left_high and average breast_quad_right_high) vs age for cases of irradiat\\\n",
    "5 (average breast_quad_left_high and average breast_quad_right_high) vs age for cases of non-irradiat\n",
    "\n",
    "print the total number of cases of irradiat"
   ]
  },
  {
   "cell_type": "code",
   "execution_count": 16,
   "metadata": {},
   "outputs": [
    {
     "data": {
      "image/png": "[encoded data removed]",
      "text/plain": [
       "<Figure size 640x480 with 1 Axes>"
      ]
     },
     "metadata": {},
     "output_type": "display_data"
    },
    {
     "data": {
      "image/png": "[encoded data removed]",
      "text/plain": [
       "<Figure size 640x480 with 1 Axes>"
      ]
     },
     "metadata": {},
     "output_type": "display_data"
    },
    {
     "data": {
      "image/png": "[encoded data removed]",
      "text/plain": [
       "<Figure size 640x480 with 1 Axes>"
      ]
     },
     "metadata": {},
     "output_type": "display_data"
    },
    {
     "data": {
      "image/png": "[encoded data removed]",
      "text/plain": [
       "<Figure size 640x480 with 1 Axes>"
      ]
     },
     "metadata": {},
     "output_type": "display_data"
    },
    {
     "data": {
      "image/png": "[encoded data removed]",
      "text/plain": [
       "<Figure size 640x480 with 1 Axes>"
      ]
     },
     "metadata": {},
     "output_type": "display_data"
    },
    {
     "name": "stdout",
     "output_type": "stream",
     "text": [
      "16\n"
     ]
    }
   ],
   "source": [
    "'''\n",
    "So get set go!!!\n",
    "The final graphs are given .... code up and compare\n",
    "'''\n",
    "df = pd.read_csv('data.csv')\n",
    "df1 = df[df['tumor_size'] > 3]\n",
    "df2 = df[df['irradiat'] == 0]\n",
    "df3 = df[df['irradiat'] == 1]\n",
    "\n",
    "plt.bar(df1['age'], df1['tumor_size'])\n",
    "plt.show()\n",
    "\n",
    "barwidth = 0.4\n",
    "\n",
    "avg_left_low_irradiat = df3.groupby('age')['breast_quad_left_low'].mean()\n",
    "avg_right_low_irradiat = df3.groupby('age')['breast_quad_right_low'].mean()\n",
    "index = np.arange(len(avg_left_low_irradiat))\n",
    "plt.bar(index - 0.2, avg_left_low_irradiat, width=barwidth) \n",
    "plt.bar(index + 0.2, avg_right_low_irradiat, width=barwidth)\n",
    "plt.show()\n",
    "\n",
    "avg_left_low_non_irradiat = df2.groupby('age')['breast_quad_left_low'].mean()\n",
    "avg_right_low_non_irradiat = df2.groupby('age')['breast_quad_right_low'].mean()\n",
    "index = np.arange(len(avg_left_low_non_irradiat))\n",
    "plt.bar(index - 0.2, avg_left_low_non_irradiat, width=barwidth)\n",
    "plt.bar(index + 0.2, avg_right_low_non_irradiat, width=barwidth)\n",
    "plt.show()\n",
    "\n",
    "avg_left_high_irradiat = df3.groupby('age')['breast_quad_left_up'].mean()\n",
    "avg_right_high_irradiat = df3.groupby('age')['breast_quad_right_up'].mean()\n",
    "index = np.arange(len(avg_left_high_irradiat))\n",
    "plt.bar(index - 0.2, avg_left_high_irradiat, width=barwidth)\n",
    "plt.bar(index + 0.2, avg_right_high_irradiat, width=barwidth)\n",
    "plt.show()\n",
    "\n",
    "avg_left_high_non_irradiat = df2.groupby('age')['breast_quad_left_up'].mean()\n",
    "avg_right_high_non_irradiat = df2.groupby('age')['breast_quad_right_up'].mean()\n",
    "index = np.arange(len(avg_right_high_non_irradiat))\n",
    "plt.bar(index - 0.2, avg_left_high_non_irradiat, width=barwidth)\n",
    "plt.bar(index + 0.2, avg_right_high_non_irradiat, width=barwidth)\n",
    "plt.show()\n",
    "\n",
    "print(len(df3)-1)\n"
   ]
  },
  {
   "cell_type": "code",
   "execution_count": null,
   "metadata": {},
   "outputs": [],
   "source": []
  }
 ],
 "metadata": {
  "kernelspec": {
   "display_name": "Python 3",
   "language": "python",
   "name": "python3"
  },
  "language_info": {
   "codemirror_mode": {
    "name": "ipython",
    "version": 3
   },
   "file_extension": ".py",
   "mimetype": "text/x-python",
   "name": "python",
   "nbconvert_exporter": "python",
   "pygments_lexer": "ipython3",
   "version": "3.12.1"
  }
 },
 "nbformat": 4,
 "nbformat_minor": 2
}
