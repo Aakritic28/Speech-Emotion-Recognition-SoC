{
 "cells": [
  {
   "cell_type": "markdown",
   "metadata": {},
   "source": [
    "Questions for Week1\n",
    "\n",
    "Do not change anything in the code ..... just write the functions with the content your are given.\n",
    "\n",
    "Request: Refrain from using any external source for coding for this week, like chatgpt:( .... all you need in this, is there in the tutorials that were provided. You may see those.\n",
    "\n",
    "Happy coding :)\n",
    "\n",
    "\n"
   ]
  },
  {
   "cell_type": "markdown",
   "metadata": {},
   "source": [
    "While using numpy, we mostly deal with matrix operations. So, let's building our own inverse function\n",
    "\n",
    "This function:\\\n",
    "1 Takes a np.array of size nXn ... it is your job to check if the matrix is a square matrix or not :)\\\n",
    "2 Returns the inverse of the matrix if possible, otherwise, returns a matrix of 0s"
   ]
  },
  {
   "cell_type": "code",
   "execution_count": null,
   "metadata": {
    "metadata": {}
   },
   "outputs": [],
   "source": [
    "import numpy as np\n",
    "\n",
    "def inverse(matrix):\n",
    "    '''\n",
    "    implement your function here\n",
    "    you are not allowed to use the inbuilt inverse function in numpy\n",
    "    feel free to use your favourite algorithm to calculate the inverse :)\n",
    "    '''\n",
    "    pass"
   ]
  },
  {
   "cell_type": "markdown",
   "metadata": {},
   "source": [
    "We won't believe your code this easily man. Hehe :)\n",
    "\n",
    "Now you will write a code to test out if your inverse is indeed correct\n",
    "\n",
    "The test function will take an np.array\n",
    "\n",
    "The test function will return:\\\n",
    "1 True, if the inverse is correct\\\n",
    "2 False if the inverse is incorrect\n",
    "\n",
    "Isn't it amazing :)"
   ]
  },
  {
   "cell_type": "code",
   "execution_count": null,
   "metadata": {
    "metadata": {}
   },
   "outputs": [],
   "source": [
    "def test(matrix):\n",
    "    '''\n",
    "    you will have to use np.linalg.inv to get the inverse and check the value got from your inverse function\n",
    "    ofc you will have to see if the matrix is invertible or not :)\n",
    "    before that, if it is a square matrix or not :)\n",
    "    '''\n",
    "    return True"
   ]
  },
  {
   "cell_type": "markdown",
   "metadata": {},
   "source": [
    "Okay, I think we should also do something.\\\n",
    "Here is the code to test out your implementations of the upper two functions."
   ]
  },
  {
   "cell_type": "code",
   "execution_count": null,
   "metadata": {},
   "outputs": [],
   "source": [
    "flag = True\n",
    "for i in range(908):\n",
    "    n = np.random.randint(2,6)\n",
    "    m = n + (np.random.randint(0,2) % 2 != 0)\n",
    "    matrix = np.random.randint(0, 20, size=(n,m)) + np.random.rand(n,m)\n",
    "    if (not test(matrix)):\n",
    "        flag = False\n",
    "        print(\"You passed\", i, \"testcases:(\")\n",
    "        break\n",
    "if (flag):\n",
    "    print(\"Congrats!!! You passed all testcases\")"
   ]
  },
  {
   "cell_type": "markdown",
   "metadata": {},
   "source": [
    "Pheww finally numpy done.\n",
    "\n",
    "Let's move on to pandas and matplotlib"
   ]
  },
  {
   "cell_type": "code",
   "execution_count": null,
   "metadata": {},
   "outputs": [],
   "source": [
    "import pandas as pd\n",
    "import matplotlib"
   ]
  },
  {
   "cell_type": "markdown",
   "metadata": {},
   "source": [
    "Load the file data.csv into a pandas dataframe.\n",
    "\n",
    "There are a lot of fields in the data. You have to plot, in a different bar graphs:\\\n",
    "1 number of cases with tumor size > 3 vs age\\\n",
    "2 (average breast_quad_left_low and average breast_quad_right_low) vs age for cases of irradiat\\\n",
    "3 (average breast_quad_left_low and average breast_quad_right_low) vs age for cases of non-irradiat\\\n",
    "4 (average breast_quad_left_high and average breast_quad_right_high) vs age for cases of irradiat\\\n",
    "5 (average breast_quad_left_high and average breast_quad_right_high) vs age for cases of non-irradiat\n",
    "\n",
    "print the total number of cases of irradiat"
   ]
  },
  {
   "cell_type": "code",
   "execution_count": null,
   "metadata": {},
   "outputs": [],
   "source": [
    "'''\n",
    "So get set go!!!\n",
    "The final graphs are given .... code up and compare\n",
    "'''"
   ]
  }
 ],
 "metadata": {
  "kernelspec": {
   "display_name": "Python 3",
   "language": "python",
   "name": "python3"
  },
  "language_info": {
   "codemirror_mode": {
    "name": "ipython",
    "version": 3
   },
   "file_extension": ".py",
   "mimetype": "text/x-python",
   "name": "python",
   "nbconvert_exporter": "python",
   "pygments_lexer": "ipython3",
   "version": "3.10.12"
  }
 },
 "nbformat": 4,
 "nbformat_minor": 2
}
